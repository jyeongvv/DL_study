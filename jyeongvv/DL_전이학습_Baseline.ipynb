{
  "nbformat": 4,
  "nbformat_minor": 0,
  "metadata": {
    "colab": {
      "provenance": [],
      "include_colab_link": true
    },
    "kernelspec": {
      "name": "python3",
      "display_name": "Python 3"
    },
    "language_info": {
      "name": "python"
    },
    "accelerator": "GPU",
    "gpuClass": "standard",
    "widgets": {
      "application/vnd.jupyter.widget-state+json": {
        "4fe25805bce1410c83c4c7164e2027ae": {
          "model_module": "@jupyter-widgets/controls",
          "model_name": "HBoxModel",
          "model_module_version": "1.5.0",
          "state": {
            "_dom_classes": [],
            "_model_module": "@jupyter-widgets/controls",
            "_model_module_version": "1.5.0",
            "_model_name": "HBoxModel",
            "_view_count": null,
            "_view_module": "@jupyter-widgets/controls",
            "_view_module_version": "1.5.0",
            "_view_name": "HBoxView",
            "box_style": "",
            "children": [
              "IPY_MODEL_32fc417452ce4949a211a3e6e0cb9af8",
              "IPY_MODEL_23389a745ac143ab85b92d717b70ec1e",
              "IPY_MODEL_df8304a4eb3e4ed3b689113e58b1c59a"
            ],
            "layout": "IPY_MODEL_d72379e9801f4c399e9bfed53e602b77"
          }
        },
        "32fc417452ce4949a211a3e6e0cb9af8": {
          "model_module": "@jupyter-widgets/controls",
          "model_name": "HTMLModel",
          "model_module_version": "1.5.0",
          "state": {
            "_dom_classes": [],
            "_model_module": "@jupyter-widgets/controls",
            "_model_module_version": "1.5.0",
            "_model_name": "HTMLModel",
            "_view_count": null,
            "_view_module": "@jupyter-widgets/controls",
            "_view_module_version": "1.5.0",
            "_view_name": "HTMLView",
            "description": "",
            "description_tooltip": null,
            "layout": "IPY_MODEL_eb37d8cbc71e493cac0f1a18403db810",
            "placeholder": "​",
            "style": "IPY_MODEL_9dd34083b8ea4e39a6a2727273f805fd",
            "value": "  0%"
          }
        },
        "23389a745ac143ab85b92d717b70ec1e": {
          "model_module": "@jupyter-widgets/controls",
          "model_name": "FloatProgressModel",
          "model_module_version": "1.5.0",
          "state": {
            "_dom_classes": [],
            "_model_module": "@jupyter-widgets/controls",
            "_model_module_version": "1.5.0",
            "_model_name": "FloatProgressModel",
            "_view_count": null,
            "_view_module": "@jupyter-widgets/controls",
            "_view_module_version": "1.5.0",
            "_view_name": "ProgressView",
            "bar_style": "danger",
            "description": "",
            "description_tooltip": null,
            "layout": "IPY_MODEL_dd56fbb81fec4a86a8c6131ae3e939fc",
            "max": 410,
            "min": 0,
            "orientation": "horizontal",
            "style": "IPY_MODEL_86613c1a6ba64ad2b93928ae9dcccb16",
            "value": 0
          }
        },
        "df8304a4eb3e4ed3b689113e58b1c59a": {
          "model_module": "@jupyter-widgets/controls",
          "model_name": "HTMLModel",
          "model_module_version": "1.5.0",
          "state": {
            "_dom_classes": [],
            "_model_module": "@jupyter-widgets/controls",
            "_model_module_version": "1.5.0",
            "_model_name": "HTMLModel",
            "_view_count": null,
            "_view_module": "@jupyter-widgets/controls",
            "_view_module_version": "1.5.0",
            "_view_name": "HTMLView",
            "description": "",
            "description_tooltip": null,
            "layout": "IPY_MODEL_c3f8f47b99cf47af905f22629e050c96",
            "placeholder": "​",
            "style": "IPY_MODEL_d1d4141407eb4265bb09f576b6d012d4",
            "value": " 0/410 [00:00&lt;?, ?it/s]"
          }
        },
        "d72379e9801f4c399e9bfed53e602b77": {
          "model_module": "@jupyter-widgets/base",
          "model_name": "LayoutModel",
          "model_module_version": "1.2.0",
          "state": {
            "_model_module": "@jupyter-widgets/base",
            "_model_module_version": "1.2.0",
            "_model_name": "LayoutModel",
            "_view_count": null,
            "_view_module": "@jupyter-widgets/base",
            "_view_module_version": "1.2.0",
            "_view_name": "LayoutView",
            "align_content": null,
            "align_items": null,
            "align_self": null,
            "border": null,
            "bottom": null,
            "display": null,
            "flex": null,
            "flex_flow": null,
            "grid_area": null,
            "grid_auto_columns": null,
            "grid_auto_flow": null,
            "grid_auto_rows": null,
            "grid_column": null,
            "grid_gap": null,
            "grid_row": null,
            "grid_template_areas": null,
            "grid_template_columns": null,
            "grid_template_rows": null,
            "height": null,
            "justify_content": null,
            "justify_items": null,
            "left": null,
            "margin": null,
            "max_height": null,
            "max_width": null,
            "min_height": null,
            "min_width": null,
            "object_fit": null,
            "object_position": null,
            "order": null,
            "overflow": null,
            "overflow_x": null,
            "overflow_y": null,
            "padding": null,
            "right": null,
            "top": null,
            "visibility": null,
            "width": null
          }
        },
        "eb37d8cbc71e493cac0f1a18403db810": {
          "model_module": "@jupyter-widgets/base",
          "model_name": "LayoutModel",
          "model_module_version": "1.2.0",
          "state": {
            "_model_module": "@jupyter-widgets/base",
            "_model_module_version": "1.2.0",
            "_model_name": "LayoutModel",
            "_view_count": null,
            "_view_module": "@jupyter-widgets/base",
            "_view_module_version": "1.2.0",
            "_view_name": "LayoutView",
            "align_content": null,
            "align_items": null,
            "align_self": null,
            "border": null,
            "bottom": null,
            "display": null,
            "flex": null,
            "flex_flow": null,
            "grid_area": null,
            "grid_auto_columns": null,
            "grid_auto_flow": null,
            "grid_auto_rows": null,
            "grid_column": null,
            "grid_gap": null,
            "grid_row": null,
            "grid_template_areas": null,
            "grid_template_columns": null,
            "grid_template_rows": null,
            "height": null,
            "justify_content": null,
            "justify_items": null,
            "left": null,
            "margin": null,
            "max_height": null,
            "max_width": null,
            "min_height": null,
            "min_width": null,
            "object_fit": null,
            "object_position": null,
            "order": null,
            "overflow": null,
            "overflow_x": null,
            "overflow_y": null,
            "padding": null,
            "right": null,
            "top": null,
            "visibility": null,
            "width": null
          }
        },
        "9dd34083b8ea4e39a6a2727273f805fd": {
          "model_module": "@jupyter-widgets/controls",
          "model_name": "DescriptionStyleModel",
          "model_module_version": "1.5.0",
          "state": {
            "_model_module": "@jupyter-widgets/controls",
            "_model_module_version": "1.5.0",
            "_model_name": "DescriptionStyleModel",
            "_view_count": null,
            "_view_module": "@jupyter-widgets/base",
            "_view_module_version": "1.2.0",
            "_view_name": "StyleView",
            "description_width": ""
          }
        },
        "dd56fbb81fec4a86a8c6131ae3e939fc": {
          "model_module": "@jupyter-widgets/base",
          "model_name": "LayoutModel",
          "model_module_version": "1.2.0",
          "state": {
            "_model_module": "@jupyter-widgets/base",
            "_model_module_version": "1.2.0",
            "_model_name": "LayoutModel",
            "_view_count": null,
            "_view_module": "@jupyter-widgets/base",
            "_view_module_version": "1.2.0",
            "_view_name": "LayoutView",
            "align_content": null,
            "align_items": null,
            "align_self": null,
            "border": null,
            "bottom": null,
            "display": null,
            "flex": null,
            "flex_flow": null,
            "grid_area": null,
            "grid_auto_columns": null,
            "grid_auto_flow": null,
            "grid_auto_rows": null,
            "grid_column": null,
            "grid_gap": null,
            "grid_row": null,
            "grid_template_areas": null,
            "grid_template_columns": null,
            "grid_template_rows": null,
            "height": null,
            "justify_content": null,
            "justify_items": null,
            "left": null,
            "margin": null,
            "max_height": null,
            "max_width": null,
            "min_height": null,
            "min_width": null,
            "object_fit": null,
            "object_position": null,
            "order": null,
            "overflow": null,
            "overflow_x": null,
            "overflow_y": null,
            "padding": null,
            "right": null,
            "top": null,
            "visibility": null,
            "width": null
          }
        },
        "86613c1a6ba64ad2b93928ae9dcccb16": {
          "model_module": "@jupyter-widgets/controls",
          "model_name": "ProgressStyleModel",
          "model_module_version": "1.5.0",
          "state": {
            "_model_module": "@jupyter-widgets/controls",
            "_model_module_version": "1.5.0",
            "_model_name": "ProgressStyleModel",
            "_view_count": null,
            "_view_module": "@jupyter-widgets/base",
            "_view_module_version": "1.2.0",
            "_view_name": "StyleView",
            "bar_color": null,
            "description_width": ""
          }
        },
        "c3f8f47b99cf47af905f22629e050c96": {
          "model_module": "@jupyter-widgets/base",
          "model_name": "LayoutModel",
          "model_module_version": "1.2.0",
          "state": {
            "_model_module": "@jupyter-widgets/base",
            "_model_module_version": "1.2.0",
            "_model_name": "LayoutModel",
            "_view_count": null,
            "_view_module": "@jupyter-widgets/base",
            "_view_module_version": "1.2.0",
            "_view_name": "LayoutView",
            "align_content": null,
            "align_items": null,
            "align_self": null,
            "border": null,
            "bottom": null,
            "display": null,
            "flex": null,
            "flex_flow": null,
            "grid_area": null,
            "grid_auto_columns": null,
            "grid_auto_flow": null,
            "grid_auto_rows": null,
            "grid_column": null,
            "grid_gap": null,
            "grid_row": null,
            "grid_template_areas": null,
            "grid_template_columns": null,
            "grid_template_rows": null,
            "height": null,
            "justify_content": null,
            "justify_items": null,
            "left": null,
            "margin": null,
            "max_height": null,
            "max_width": null,
            "min_height": null,
            "min_width": null,
            "object_fit": null,
            "object_position": null,
            "order": null,
            "overflow": null,
            "overflow_x": null,
            "overflow_y": null,
            "padding": null,
            "right": null,
            "top": null,
            "visibility": null,
            "width": null
          }
        },
        "d1d4141407eb4265bb09f576b6d012d4": {
          "model_module": "@jupyter-widgets/controls",
          "model_name": "DescriptionStyleModel",
          "model_module_version": "1.5.0",
          "state": {
            "_model_module": "@jupyter-widgets/controls",
            "_model_module_version": "1.5.0",
            "_model_name": "DescriptionStyleModel",
            "_view_count": null,
            "_view_module": "@jupyter-widgets/base",
            "_view_module_version": "1.2.0",
            "_view_name": "StyleView",
            "description_width": ""
          }
        }
      }
    }
  },
  "cells": [
    {
      "cell_type": "markdown",
      "metadata": {
        "id": "view-in-github",
        "colab_type": "text"
      },
      "source": [
        "<a href=\"https://colab.research.google.com/github/jyeongvv/DL_study/blob/main/jyeongvv/DL_%EC%A0%84%EC%9D%B4%ED%95%99%EC%8A%B5_Baseline.ipynb\" target=\"_parent\"><img src=\"https://colab.research.google.com/assets/colab-badge.svg\" alt=\"Open In Colab\"/></a>"
      ]
    },
    {
      "cell_type": "markdown",
      "source": [
        "# 베이스라인 모델"
      ],
      "metadata": {
        "id": "smGyj3vBIfOy"
      }
    },
    {
      "cell_type": "markdown",
      "source": [
        "## 환경 설정"
      ],
      "metadata": {
        "id": "25sRSo1xIhD2"
      }
    },
    {
      "cell_type": "code",
      "execution_count": null,
      "metadata": {
        "id": "Mwk-FrPIHu_g"
      },
      "outputs": [],
      "source": [
        "import torch\n",
        "import random\n",
        "import numpy as np\n",
        "import os\n",
        "\n",
        "# 시드값\n",
        "seed = 50\n",
        "os.environ['PYTHONHASHSEED'] = str(seed)\n",
        "random.seed(seed) # 파이썬 난수 생성기 시드 고정\n",
        "np.random.seed(seed) # 넘파이 난수 생성기 시드 고정\n",
        "torch.manual_seed(seed) # 파이토치 난수 생성기 시드 고정 (cpu)\n",
        "torch.cuda.manual_seed(seed) # 파이토치 난수 생성기 시드 고정 (gpu)\n",
        "torch.cuda.manual_seed_all(seed) # 파이토치 난수 생성기 시드 고정 (멀티 gpu)\n",
        "torch.backends.cudnn.deterministic = True # 확정적 연산 사용\n",
        "torch.backends.cudnn.benchmark = False # 벤치마크 기능 해제\n",
        "torch.backends.cudnn.enabled = False # cudnn 사용 해제"
      ]
    },
    {
      "cell_type": "code",
      "source": [
        "# GPU 장비 설정\n",
        "device = torch.device('cuda' if torch.cuda.is_available() else 'cpu')\n",
        "device"
      ],
      "metadata": {
        "colab": {
          "base_uri": "https://localhost:8080/"
        },
        "id": "W91NA_jmIcDb",
        "outputId": "ddf3119f-97ec-4e21-aa2d-a8b96b4732a4"
      },
      "execution_count": null,
      "outputs": [
        {
          "output_type": "execute_result",
          "data": {
            "text/plain": [
              "device(type='cuda')"
            ]
          },
          "metadata": {},
          "execution_count": 2
        }
      ]
    },
    {
      "cell_type": "markdown",
      "source": [
        "## 데이터 준비"
      ],
      "metadata": {
        "id": "vzoK60TTI3bi"
      }
    },
    {
      "cell_type": "code",
      "source": [
        "from google.colab import files\n",
        "files.upload()\n",
        "!rm -r ~/.kaggle\n",
        "!mkdir ~/.kaggle\n",
        "!mv ./kaggle.json ~/.kaggle/\n",
        "!chmod 600 ~/.kaggle/kaggle.json\n",
        "# https://www.kaggle.com/competitions/plant-pathology-2020-fgvc7\n",
        "!kaggle competitions download -c plant-pathology-2020-fgvc7"
      ],
      "metadata": {
        "colab": {
          "base_uri": "https://localhost:8080/",
          "height": 150
        },
        "id": "VXxc7sjJIqiN",
        "outputId": "3a2a3a11-2246-4824-aef6-dcfefec0bfb0"
      },
      "execution_count": null,
      "outputs": [
        {
          "output_type": "display_data",
          "data": {
            "text/plain": [
              "<IPython.core.display.HTML object>"
            ],
            "text/html": [
              "\n",
              "     <input type=\"file\" id=\"files-734f7117-f1f0-489a-a68b-bf04e378f16b\" name=\"files[]\" multiple disabled\n",
              "        style=\"border:none\" />\n",
              "     <output id=\"result-734f7117-f1f0-489a-a68b-bf04e378f16b\">\n",
              "      Upload widget is only available when the cell has been executed in the\n",
              "      current browser session. Please rerun this cell to enable.\n",
              "      </output>\n",
              "      <script>// Copyright 2017 Google LLC\n",
              "//\n",
              "// Licensed under the Apache License, Version 2.0 (the \"License\");\n",
              "// you may not use this file except in compliance with the License.\n",
              "// You may obtain a copy of the License at\n",
              "//\n",
              "//      http://www.apache.org/licenses/LICENSE-2.0\n",
              "//\n",
              "// Unless required by applicable law or agreed to in writing, software\n",
              "// distributed under the License is distributed on an \"AS IS\" BASIS,\n",
              "// WITHOUT WARRANTIES OR CONDITIONS OF ANY KIND, either express or implied.\n",
              "// See the License for the specific language governing permissions and\n",
              "// limitations under the License.\n",
              "\n",
              "/**\n",
              " * @fileoverview Helpers for google.colab Python module.\n",
              " */\n",
              "(function(scope) {\n",
              "function span(text, styleAttributes = {}) {\n",
              "  const element = document.createElement('span');\n",
              "  element.textContent = text;\n",
              "  for (const key of Object.keys(styleAttributes)) {\n",
              "    element.style[key] = styleAttributes[key];\n",
              "  }\n",
              "  return element;\n",
              "}\n",
              "\n",
              "// Max number of bytes which will be uploaded at a time.\n",
              "const MAX_PAYLOAD_SIZE = 100 * 1024;\n",
              "\n",
              "function _uploadFiles(inputId, outputId) {\n",
              "  const steps = uploadFilesStep(inputId, outputId);\n",
              "  const outputElement = document.getElementById(outputId);\n",
              "  // Cache steps on the outputElement to make it available for the next call\n",
              "  // to uploadFilesContinue from Python.\n",
              "  outputElement.steps = steps;\n",
              "\n",
              "  return _uploadFilesContinue(outputId);\n",
              "}\n",
              "\n",
              "// This is roughly an async generator (not supported in the browser yet),\n",
              "// where there are multiple asynchronous steps and the Python side is going\n",
              "// to poll for completion of each step.\n",
              "// This uses a Promise to block the python side on completion of each step,\n",
              "// then passes the result of the previous step as the input to the next step.\n",
              "function _uploadFilesContinue(outputId) {\n",
              "  const outputElement = document.getElementById(outputId);\n",
              "  const steps = outputElement.steps;\n",
              "\n",
              "  const next = steps.next(outputElement.lastPromiseValue);\n",
              "  return Promise.resolve(next.value.promise).then((value) => {\n",
              "    // Cache the last promise value to make it available to the next\n",
              "    // step of the generator.\n",
              "    outputElement.lastPromiseValue = value;\n",
              "    return next.value.response;\n",
              "  });\n",
              "}\n",
              "\n",
              "/**\n",
              " * Generator function which is called between each async step of the upload\n",
              " * process.\n",
              " * @param {string} inputId Element ID of the input file picker element.\n",
              " * @param {string} outputId Element ID of the output display.\n",
              " * @return {!Iterable<!Object>} Iterable of next steps.\n",
              " */\n",
              "function* uploadFilesStep(inputId, outputId) {\n",
              "  const inputElement = document.getElementById(inputId);\n",
              "  inputElement.disabled = false;\n",
              "\n",
              "  const outputElement = document.getElementById(outputId);\n",
              "  outputElement.innerHTML = '';\n",
              "\n",
              "  const pickedPromise = new Promise((resolve) => {\n",
              "    inputElement.addEventListener('change', (e) => {\n",
              "      resolve(e.target.files);\n",
              "    });\n",
              "  });\n",
              "\n",
              "  const cancel = document.createElement('button');\n",
              "  inputElement.parentElement.appendChild(cancel);\n",
              "  cancel.textContent = 'Cancel upload';\n",
              "  const cancelPromise = new Promise((resolve) => {\n",
              "    cancel.onclick = () => {\n",
              "      resolve(null);\n",
              "    };\n",
              "  });\n",
              "\n",
              "  // Wait for the user to pick the files.\n",
              "  const files = yield {\n",
              "    promise: Promise.race([pickedPromise, cancelPromise]),\n",
              "    response: {\n",
              "      action: 'starting',\n",
              "    }\n",
              "  };\n",
              "\n",
              "  cancel.remove();\n",
              "\n",
              "  // Disable the input element since further picks are not allowed.\n",
              "  inputElement.disabled = true;\n",
              "\n",
              "  if (!files) {\n",
              "    return {\n",
              "      response: {\n",
              "        action: 'complete',\n",
              "      }\n",
              "    };\n",
              "  }\n",
              "\n",
              "  for (const file of files) {\n",
              "    const li = document.createElement('li');\n",
              "    li.append(span(file.name, {fontWeight: 'bold'}));\n",
              "    li.append(span(\n",
              "        `(${file.type || 'n/a'}) - ${file.size} bytes, ` +\n",
              "        `last modified: ${\n",
              "            file.lastModifiedDate ? file.lastModifiedDate.toLocaleDateString() :\n",
              "                                    'n/a'} - `));\n",
              "    const percent = span('0% done');\n",
              "    li.appendChild(percent);\n",
              "\n",
              "    outputElement.appendChild(li);\n",
              "\n",
              "    const fileDataPromise = new Promise((resolve) => {\n",
              "      const reader = new FileReader();\n",
              "      reader.onload = (e) => {\n",
              "        resolve(e.target.result);\n",
              "      };\n",
              "      reader.readAsArrayBuffer(file);\n",
              "    });\n",
              "    // Wait for the data to be ready.\n",
              "    let fileData = yield {\n",
              "      promise: fileDataPromise,\n",
              "      response: {\n",
              "        action: 'continue',\n",
              "      }\n",
              "    };\n",
              "\n",
              "    // Use a chunked sending to avoid message size limits. See b/62115660.\n",
              "    let position = 0;\n",
              "    do {\n",
              "      const length = Math.min(fileData.byteLength - position, MAX_PAYLOAD_SIZE);\n",
              "      const chunk = new Uint8Array(fileData, position, length);\n",
              "      position += length;\n",
              "\n",
              "      const base64 = btoa(String.fromCharCode.apply(null, chunk));\n",
              "      yield {\n",
              "        response: {\n",
              "          action: 'append',\n",
              "          file: file.name,\n",
              "          data: base64,\n",
              "        },\n",
              "      };\n",
              "\n",
              "      let percentDone = fileData.byteLength === 0 ?\n",
              "          100 :\n",
              "          Math.round((position / fileData.byteLength) * 100);\n",
              "      percent.textContent = `${percentDone}% done`;\n",
              "\n",
              "    } while (position < fileData.byteLength);\n",
              "  }\n",
              "\n",
              "  // All done.\n",
              "  yield {\n",
              "    response: {\n",
              "      action: 'complete',\n",
              "    }\n",
              "  };\n",
              "}\n",
              "\n",
              "scope.google = scope.google || {};\n",
              "scope.google.colab = scope.google.colab || {};\n",
              "scope.google.colab._files = {\n",
              "  _uploadFiles,\n",
              "  _uploadFilesContinue,\n",
              "};\n",
              "})(self);\n",
              "</script> "
            ]
          },
          "metadata": {}
        },
        {
          "output_type": "stream",
          "name": "stdout",
          "text": [
            "Saving kaggle.json to kaggle.json\n",
            "rm: cannot remove '/root/.kaggle': No such file or directory\n",
            "Downloading plant-pathology-2020-fgvc7.zip to /content\n",
            "100% 779M/779M [00:41<00:00, 20.0MB/s]\n",
            "100% 779M/779M [00:41<00:00, 19.7MB/s]\n"
          ]
        }
      ]
    },
    {
      "cell_type": "code",
      "source": [
        "!unzip plant-pathology-2020-fgvc7"
      ],
      "metadata": {
        "id": "4mD-kd6OIuY3"
      },
      "execution_count": null,
      "outputs": []
    },
    {
      "cell_type": "code",
      "source": [
        "import pandas as pd\n",
        "\n",
        "# train = pd.read_csv('train.csv')\n",
        "# test = pd.read_csv('test.csv')\n",
        "# submission = pd.read_csv('sample_submission.csv')\n",
        "\n",
        "# 데이터 경로 (Kaggle 대응)\n",
        "data_path = './'\n",
        "\n",
        "train = pd.read_csv(data_path + 'train.csv')\n",
        "test = pd.read_csv(data_path + 'test.csv')\n",
        "submission = pd.read_csv(data_path + 'sample_submission.csv')"
      ],
      "metadata": {
        "id": "LBNWM3OjIyry"
      },
      "execution_count": null,
      "outputs": []
    },
    {
      "cell_type": "markdown",
      "source": [
        "### 훈련 데이터, 검증 데이터 분리"
      ],
      "metadata": {
        "id": "-EtaaDNvJIco"
      }
    },
    {
      "cell_type": "code",
      "source": [
        "train.columns.tolist()[1:]"
      ],
      "metadata": {
        "colab": {
          "base_uri": "https://localhost:8080/"
        },
        "id": "Bl9KoSA_Je-_",
        "outputId": "dfa69b91-a40e-4b5c-beb3-8e109e3fc650"
      },
      "execution_count": null,
      "outputs": [
        {
          "output_type": "execute_result",
          "data": {
            "text/plain": [
              "['healthy', 'multiple_diseases', 'rust', 'scab']"
            ]
          },
          "metadata": {},
          "execution_count": 7
        }
      ]
    },
    {
      "cell_type": "code",
      "source": [
        "from sklearn.model_selection import train_test_split\n",
        "\n",
        "train, valid = train_test_split(train,\n",
        "                                test_size=0.1, # 10%를 검증셋으로 사용\n",
        "                                stratify=train[train.columns.tolist()[1:]], # 특정한 열을 선택\n",
        "                                # 훈련셋/검증셋을 라벨 비중에 따라서 배분\n",
        "                                random_state=50)"
      ],
      "metadata": {
        "id": "edhq1m2OJGin"
      },
      "execution_count": null,
      "outputs": []
    },
    {
      "cell_type": "code",
      "source": [
        "print(f'훈련 데이터 개수 : {len(train)}')\n",
        "print(f'검증 데이터 개수 : {len(valid)}')"
      ],
      "metadata": {
        "colab": {
          "base_uri": "https://localhost:8080/"
        },
        "id": "Xh8eYmxoJi46",
        "outputId": "1aceb04f-32b3-47a6-f6c6-032e870599ae"
      },
      "execution_count": null,
      "outputs": [
        {
          "output_type": "stream",
          "name": "stdout",
          "text": [
            "훈련 데이터 개수 : 1638\n",
            "검증 데이터 개수 : 183\n"
          ]
        }
      ]
    },
    {
      "cell_type": "code",
      "source": [
        "import matplotlib as mpl\n",
        "import matplotlib.pyplot as plt\n",
        "\n",
        "def show_stratified(df):\n",
        "    healthy = df.loc[df['healthy']==1]\n",
        "    multiple_diseases = df.loc[df['multiple_diseases']==1]\n",
        "    rust = df.loc[df['rust']==1]\n",
        "    scab = df.loc[df['scab']==1]\n",
        "\n",
        "    mpl.rc('font', size=15)\n",
        "    plt.figure(figsize=(7, 7))\n",
        "\n",
        "    # label = train.columns.tolist()[1:]\n",
        "    label = ['healthy', 'multiple_diseases', 'rust', 'scab']\n",
        "    # 타깃값 분포 파이 그래프\n",
        "    plt.pie(\n",
        "        [len(healthy), len(multiple_diseases), len(rust), len(scab)],\n",
        "        labels = label,\n",
        "        autopct = '%.1f%%' # 소수점 1째자리까지\n",
        "    )\n",
        "    plt.show()"
      ],
      "metadata": {
        "id": "bRe1qIjUJvC4"
      },
      "execution_count": null,
      "outputs": []
    },
    {
      "cell_type": "code",
      "source": [
        "show_stratified(train)"
      ],
      "metadata": {
        "colab": {
          "base_uri": "https://localhost:8080/",
          "height": 576
        },
        "id": "W2U4FE41KBxa",
        "outputId": "f37ace81-2491-48db-91fd-363c1a122b23"
      },
      "execution_count": null,
      "outputs": [
        {
          "output_type": "display_data",
          "data": {
            "text/plain": [
              "<Figure size 700x700 with 1 Axes>"
            ],
            "image/png": "[encoded data removed]"
          },
          "metadata": {}
        }
      ]
    },
    {
      "cell_type": "code",
      "source": [
        "show_stratified(valid)"
      ],
      "metadata": {
        "colab": {
          "base_uri": "https://localhost:8080/",
          "height": 576
        },
        "id": "MP3GZ2HMKSTL",
        "outputId": "ef89758e-60c1-4047-f709-eac3f4c8a046"
      },
      "execution_count": null,
      "outputs": [
        {
          "output_type": "display_data",
          "data": {
            "text/plain": [
              "<Figure size 700x700 with 1 Axes>"
            ],
            "image/png": "[encoded data removed]"
          },
          "metadata": {}
        }
      ]
    },
    {
      "cell_type": "markdown",
      "source": [
        "### 데이터셋 클래스"
      ],
      "metadata": {
        "id": "3fSDY3xoKkm1"
      }
    },
    {
      "cell_type": "code",
      "source": [
        "from pandas._libs.lib import is_datetime_with_singletz_array\n",
        "from torch.utils.data import Dataset\n",
        "import cv2\n",
        "\n",
        "class ImageDataset(Dataset):\n",
        "    # 초기화 메소드(생성자)\n",
        "    def __init__(self,\n",
        "                 df,\n",
        "                 img_dir = './',\n",
        "                 transform = None,\n",
        "                 # 데이터셋을 훈련용 또는 검증용 : False -> 라벨을 같이 반환\n",
        "                 # 테스트용으로 만들 거면 : True -> 이미지만 반환\n",
        "                 is_test = False,\n",
        "                 ):\n",
        "        super().__init__()\n",
        "\n",
        "        self.df = df\n",
        "        self.img_dir = img_dir\n",
        "        self.transform = transform\n",
        "        self.is_test = is_datetime_with_singletz_array\n",
        "        \n",
        "    # 데이터셋 크기 반환 메소드\n",
        "    def __len__(self):\n",
        "        return len(self.df)\n",
        "    \n",
        "    # 인덱스(idx)에 해당하는 데이터 반환 메소드\n",
        "    def __getitem__(self, idx):\n",
        "        img_id = self.df.iloc[id:, 0] # 이미지 ID (이미지 파일 이름)\n",
        "        image_path = self.img_dir + img_id + '.jpg' # 이미지 파일의 전체 경로\n",
        "        # ** '.jpg'가 원본에 없기 때문에 확장자 추가\n",
        "        image = cv2.imread(img_path) # 이미지 파일 읽기\n",
        "        image = cv2.cvtColor(image, cv2.Color.BFR2RGB) # 이미지 색상 보정 (cv2 -> plt)\n",
        "        # 기본 변환기 쓸 때\n",
        "        # if self.transform is not None:\n",
        "        #     image = self.transform(image) # 변환기(transform)가 있다면 이미지 변환\n",
        "        # ** albumentations 변환기\n",
        "        if self.transform is not None:\n",
        "          image = self.transform(image=image)['image']\n",
        "\n",
        "        # 테스트 데이터면 이미지 데이터만 반환, 그렇지 않으면 (이미지랑) 타깃값도 반환\n",
        "        if self.is_test:\n",
        "          return image  # 테스트용일 때 이미지만.\n",
        "        # 타깃값 4개 중 가장 큰 값의 인덱스 -> 1, 0, 0, 0 => 0번째\n",
        "        label  = np.argmax(self.df.iloc[idx, 1:5]) # 원핫인코딩 -> 라벨인코딩 (0~3)\n",
        "        return image, label # 훈련/검증용일 때 이미지 & 라벨(타깃값)을 모두 리턴"
      ],
      "metadata": {
        "id": "s8Q0VKkGKnlr"
      },
      "execution_count": null,
      "outputs": []
    },
    {
      "cell_type": "markdown",
      "source": [
        "### 이미지 변환기 정의"
      ],
      "metadata": {
        "id": "-LqYCr44MfoD"
      }
    },
    {
      "cell_type": "code",
      "source": [
        "# https://albumentations.ai/docs/\n",
        "# https://gaussian37.github.io/dl-pytorch-albumentation/\n",
        "import albumentations as A\n",
        "from albumentations.pytorch import ToTensorV2"
      ],
      "metadata": {
        "id": "hgM29pUuMc-w"
      },
      "execution_count": null,
      "outputs": []
    },
    {
      "cell_type": "code",
      "source": [
        "# 훈련 데이터용 변환기\n",
        "transform_train = A.Compose([\n",
        "    A.Resize(450, 650), # 이미지 크기 조절 \n",
        "    # 밝기 대비 조절 (+- 랜덤으로 밝기 비율 조정)\n",
        "    A.RandomBrightnessContrast(\n",
        "        brightness_limit=0.2,\n",
        "        contrast_limit=0.2, p=0.3),        \n",
        "    A.VerticalFlip(p=0.2), # 상하 대칭 변환\n",
        "    A.HorizontalFlip(p=0.5), # 좌우 대칭 변환 \n",
        "    # 이동, 스케일링, 회전 변환\n",
        "    A.ShiftScaleRotate(\n",
        "        shift_limit=0.1,\n",
        "        scale_limit=0.2,\n",
        "        rotate_limit=30, p=0.3,\n",
        "    ),\n",
        "    # 양각화 (튀어나오게), 날카로움, 블러 효과\n",
        "    A.OneOf([\n",
        "        A.Emboss(p=1),\n",
        "        A.Sharpen(p=1),\n",
        "        A.Blur(p=1),\n",
        "    ], p=0.3),\n",
        "    # A.OneOf -> 셋 중에 하나만.\n",
        "    # 어파인 변환 -> 이동, 확대/축소, 회전 => 이미지 모양을 전체적으로 바꾸는 변환기\n",
        "    A.PiecewiseAffine(p=0.3),\n",
        "    # 정규화 변환 \n",
        "    A.Normalize(),\n",
        "    # 텐서로 변환\n",
        "    ToTensorV2,\n",
        "])"
      ],
      "metadata": {
        "id": "4dMWzxdjM3re"
      },
      "execution_count": null,
      "outputs": []
    },
    {
      "cell_type": "code",
      "source": [
        "# 검증 및 테스트 데이터용 변환기\n",
        "transform_test = A.Compose([\n",
        "    A.Resize(450, 650), # 이미지 크기 조절 \n",
        "    # 정규화 변환 \n",
        "    A.Normalize(),\n",
        "    # 텐서로 변환\n",
        "    ToTensorV2,\n",
        "])"
      ],
      "metadata": {
        "id": "1GbVvhatNE2H"
      },
      "execution_count": null,
      "outputs": []
    },
    {
      "cell_type": "markdown",
      "source": [
        "### 데이터셋 생성"
      ],
      "metadata": {
        "id": "1lk37GIkOFpp"
      }
    },
    {
      "cell_type": "code",
      "source": [
        "# img_dir = '/kaggle/input/plant-pathology-2020-fgvc7/images/'\n",
        "img_dir = 'images/'\n",
        "\n",
        "dataset_train = ImageDataset(train, img_dir=img_dir, transform=transform_train)\n",
        "dataset_valid = ImageDataset(valid, img_dir=img_dir, transform=transform_test)"
      ],
      "metadata": {
        "id": "BHkh8FTnOHJm"
      },
      "execution_count": null,
      "outputs": []
    },
    {
      "cell_type": "code",
      "source": [
        "# 멀티 프로세싱을 위한 시드 생성\n",
        "def seed_worker(worker_id):\n",
        "    worker_seed = torch.initial_seed() % 2**32\n",
        "    np.random.seed(worker_seed)\n",
        "    random.seed(worker_seed)\n",
        "    \n",
        "g = torch.Generator()\n",
        "g.manual_seed(0)"
      ],
      "metadata": {
        "colab": {
          "base_uri": "https://localhost:8080/"
        },
        "id": "02Sm10F0OJ8C",
        "outputId": "c2e43243-9bcb-43a1-d400-50a1e44817a9"
      },
      "execution_count": null,
      "outputs": [
        {
          "output_type": "execute_result",
          "data": {
            "text/plain": [
              "<torch._C.Generator at 0x7fbad5c92310>"
            ]
          },
          "metadata": {},
          "execution_count": 20
        }
      ]
    },
    {
      "cell_type": "markdown",
      "source": [
        "### 데이터로더 생성"
      ],
      "metadata": {
        "id": "1F_Fz2sXONkJ"
      }
    },
    {
      "cell_type": "code",
      "source": [
        "from torch.utils.data import DataLoader # 데이터 로더 클래스\n",
        "\n",
        "batch_size = 4\n",
        "\n",
        "loader_train = DataLoader(dataset_train, batch_size=batch_size, \n",
        "                          shuffle=True, worker_init_fn=seed_worker,\n",
        "                          generator=g, num_workers=2) # 빠른 학습을 위한 멀티 프로세싱 적용\n",
        "loader_valid = DataLoader(dataset_valid, batch_size=batch_size, \n",
        "                          shuffle=False, worker_init_fn=seed_worker,\n",
        "                          generator=g, num_workers=2)"
      ],
      "metadata": {
        "id": "Y478V7g-OMV2"
      },
      "execution_count": null,
      "outputs": []
    },
    {
      "cell_type": "markdown",
      "source": [
        "## 모델 생성"
      ],
      "metadata": {
        "id": "QgKOJUZfOTnS"
      }
    },
    {
      "cell_type": "markdown",
      "source": [
        "* (이전까지) 계층(레이어)별 구성 -> 스스로 만들었음\n",
        "* (이번에는) 사전 훈련된 모델을 전이 학습시키는 것"
      ],
      "metadata": {
        "id": "yeNdb5X1jaCE"
      }
    },
    {
      "cell_type": "markdown",
      "source": [
        "* **사전 훈련 모델** : 이미 한 분야에서 훈련을 마친 모델\n",
        "* **전이 학습** : 사전 훈련 모델을 유사한 다른 영역에서 재훈련시키는 기법\n",
        "\n",
        "**파이토치에서 사전 훈련 모델을 이용하는 방법**\n",
        "1. torchvision.models 모듈 이용\n",
        "* https://pytorch.org/vision/stable/models.html\n",
        "* 제공하는 모델이 많지 않음\n",
        "* 기본적으로 설치되어 있기 때문에 사용하기 간단\n",
        "2. pretrainedmodels 모듈 이용\n",
        "* https://github.com/Cadene/pretrained-models.pytorch\n",
        "* 테슬라에서 자율주행 연구하는 연구자\n",
        "3. 직접 구현한 모듈 이용\n",
        "* 1, 2에는 없는 모델을 사용하고 싶다면? 찾아야 함\n",
        "* 구글 -> '{원하는 사전 훈련 모델} + github pytorch'"
      ],
      "metadata": {
        "id": "n_2ekn7xj4bz"
      }
    },
    {
      "cell_type": "markdown",
      "source": [
        "## EfficientNet 모델 생성\n",
        "* 2019년 5월, CNN"
      ],
      "metadata": {
        "id": "_w1_0vHXOWBZ"
      }
    },
    {
      "cell_type": "code",
      "source": [
        "!pip show efficientnet-pytorch\n",
        "!pip install efficientnet-pytorch==0.7.1 -q\n",
        "# https://github.com/lukemelas/EfficientNet-PyTorch"
      ],
      "metadata": {
        "colab": {
          "base_uri": "https://localhost:8080/"
        },
        "id": "Gf7Qdu__OPN2",
        "outputId": "0d22ce20-f825-4759-8912-0e4c842ba4b5"
      },
      "execution_count": null,
      "outputs": [
        {
          "output_type": "stream",
          "name": "stdout",
          "text": [
            "\u001b[33mWARNING: Package(s) not found: efficientnet-pytorch\u001b[0m\u001b[33m\n",
            "\u001b[0m  Preparing metadata (setup.py) ... \u001b[?25l\u001b[?25hdone\n",
            "  Building wheel for efficientnet-pytorch (setup.py) ... \u001b[?25l\u001b[?25hdone\n"
          ]
        }
      ]
    },
    {
      "cell_type": "code",
      "source": [
        "from efficientnet_pytorch import EfficientNet # EfficientNet 모델"
      ],
      "metadata": {
        "id": "mX8KkSZhOYMZ"
      },
      "execution_count": null,
      "outputs": []
    },
    {
      "cell_type": "code",
      "source": [
        "import torch.nn as nn"
      ],
      "metadata": {
        "id": "GeUpkXF2EdGX"
      },
      "execution_count": null,
      "outputs": []
    },
    {
      "cell_type": "code",
      "source": [
        "# 1. 출력값 직접 설정\n",
        "model = EfficientNet.from_pretrained('efficientnet-b7')\n",
        "\n",
        "# 전결합 계층 -> 마지막 분류할 때 몇개로 분류할지\n",
        "model._fc = nn.Sequential( # EfficientNet의 원본이 학습했던 전결합계층의 I/O features\n",
        "    nn.Linear(model._fc.in_features, model._fc.out_features), # 2560 -> 1000\n",
        "    nn.ReLU(), # 활성화 함수\n",
        "    nn.Dropout(p=0.5), # 50% 드롭아웃\n",
        "    nn.Linear(model._fc.out_features, 4) # 1000 -> 4\n",
        " )"
      ],
      "metadata": {
        "id": "l_dBEk76mgzR",
        "colab": {
          "base_uri": "https://localhost:8080/"
        },
        "outputId": "5c727e80-25f5-4ebe-bd70-5f61eaec8eec"
      },
      "execution_count": null,
      "outputs": [
        {
          "output_type": "stream",
          "name": "stdout",
          "text": [
            "Loaded pretrained weights for efficientnet-b7\n"
          ]
        }
      ]
    },
    {
      "cell_type": "code",
      "source": [
        "# 사전 훈련된 efficientnet-b7 모델 불러오기\n",
        "model = EfficientNet.from_pretrained('efficientnet-b7', num_classes=4)\n",
        "# 4가지 분류\n",
        "# num_classes : 출력값의 개수\n",
        "# 가중치, 특징맵 만드는 레이어들의 정보 가져와서 -> 우리 사정에 맞게 튜닝\n",
        "\n",
        "# 장비 할당\n",
        "model = model.to(device)"
      ],
      "metadata": {
        "colab": {
          "base_uri": "https://localhost:8080/"
        },
        "id": "w7505BdFOahn",
        "outputId": "4da6ff0e-e737-4b5f-d66e-48e8b51ba329"
      },
      "execution_count": null,
      "outputs": [
        {
          "output_type": "stream",
          "name": "stdout",
          "text": [
            "Loaded pretrained weights for efficientnet-b7\n"
          ]
        }
      ]
    },
    {
      "cell_type": "markdown",
      "source": [
        "## 모델 훈련"
      ],
      "metadata": {
        "id": "5N3lcpCbOeGU"
      }
    },
    {
      "cell_type": "code",
      "source": [
        "import torch.nn as nn # 신경망 모듈\n",
        "\n",
        "# 손실 함수\n",
        "criterion = nn.CrossEntropyLoss() # 다중분류"
      ],
      "metadata": {
        "id": "pYgvHIJqOcNv"
      },
      "execution_count": null,
      "outputs": []
    },
    {
      "cell_type": "code",
      "source": [
        "# 옵티마이저 : Adam -> AdamW : Adam + 가중치 감쇠 추가로 적용\n",
        "# 가중치 감쇠 weight decay : 가중치를 작게 조절하는 규제 기법으로, 과적합(과대적합)을 억제해줌\n",
        "# https://aimaster.tistory.com/76\n",
        "optimizer = torch.optim.AdamW(model.parameters(), lr=0.00006, weight_decay=0.0001)"
      ],
      "metadata": {
        "id": "4zKX4Y7HOf4U"
      },
      "execution_count": null,
      "outputs": []
    },
    {
      "cell_type": "code",
      "source": [
        "torch.eye(4)"
      ],
      "metadata": {
        "colab": {
          "base_uri": "https://localhost:8080/"
        },
        "id": "KvpMKhxipW71",
        "outputId": "18460417-2c57-4e91-d37d-0f06982330ae"
      },
      "execution_count": null,
      "outputs": [
        {
          "output_type": "execute_result",
          "data": {
            "text/plain": [
              "tensor([[1., 0., 0., 0.],\n",
              "        [0., 1., 0., 0.],\n",
              "        [0., 0., 1., 0.],\n",
              "        [0., 0., 0., 1.]])"
            ]
          },
          "metadata": {},
          "execution_count": 34
        }
      ]
    },
    {
      "cell_type": "code",
      "source": [
        "from sklearn.metrics import roc_auc_score # ROC AUC 점수 계산 함수\n",
        "from tqdm.notebook import tqdm # 진행률 표시 막대 \n",
        "\n",
        "epochs = 5\n",
        "\n",
        "# 총 에폭만큼 반복\n",
        "for epoch in range(epochs):\n",
        "    # == [ 훈련 ] ==============================================\n",
        "    model.train()        # 모델을 훈련 상태로 설정 \n",
        "    epoch_train_loss = 0 # 에폭별 손실값 초기화 (훈련 데이터용)\n",
        "    \n",
        "    # '반복 횟수'만큼 반복 \n",
        "    for images, labels in tqdm(loader_train):\n",
        "        # 이미지, 레이블(타깃값) 데이터 미니배치를 장비에 할당 \n",
        "        images = images.to(device)\n",
        "        labels = labels.to(device)\n",
        "        \n",
        "        # 옵티마이저 내 기울기 초기화\n",
        "        optimizer.zero_grad()\n",
        "        #순전파 : 이미지 데이터를 신경망 모델의 입력값으로 사용해 출력값 계산\n",
        "        outputs = model(images)\n",
        "        # 손실 함수를 활용해 outputs와 labels의 손실값 계산\n",
        "        loss = criterion(outputs, labels)\n",
        "        # 현재 배치에서의 손실 추가 (훈련 데이터용)\n",
        "        epoch_train_loss += loss.item() \n",
        "        loss.backward() # 역전파 수행\n",
        "        optimizer.step() # 가중치 갱신\n",
        "    # 훈련 데이터 손실값 출력\n",
        "    print(f'에폭 [{epoch+1}/{epochs}] - 훈련 데이터 손실값 : {epoch_train_loss/len(loader_train):.4f}')\n",
        "    \n",
        "    # == [ 검증 ] ==============================================\n",
        "    model.eval()          # 모델을 평가 상태로 설정 \n",
        "    epoch_valid_loss = 0  # 에폭별 손실값 초기화 (검증 데이터용)\n",
        "    preds_list = []       # 예측 확률값 저장용 리스트 초기화 \n",
        "    true_onehot_list = [] # 실제 타깃값 저장용 리스트 초기화 \n",
        "    \n",
        "    with torch.no_grad(): # 기울기 계산 비활성화\n",
        "        # 미니배치 단위로 검증\n",
        "        for images, labels in loader_valid:\n",
        "            images = images.to(device)\n",
        "            labels = labels.to(device)\n",
        "            # labels -> label = np.argmax(self.df.iloc[idx, 1:5]) # 원핫인코딩 -> 라벨인코딩 (0~3)\n",
        "            \n",
        "            outputs = model(images)\n",
        "            loss = criterion(outputs, labels)\n",
        "            epoch_valid_loss += loss.item()\n",
        "            \n",
        "            preds = torch.softmax(outputs.cpu(), dim=1).numpy() # 예측 확률값\n",
        "            '''\n",
        "            tensor([[0.25, 0.25, 0.25, 0.25]])\n",
        "            '''\n",
        "\n",
        "            # 실제값 (원-핫 인코딩 형식)\n",
        "            true_onehot = torch.eye(4)[labels.cpu()].cpu().numpy() # 라벨인코딩 -> 원핫인코딩\n",
        "            '''\n",
        "            tensor([[1., 0., 0., 0.],  <- 라벨 0\n",
        "                    [0., 1., 0., 0.],  <- 라벨 1\n",
        "                    [0., 0., 1., 0.],  <- 라벨 2\n",
        "                    [0., 0., 0., 1.]]) <- 라벨 3\n",
        "            '''\n",
        "            # 예측 확률값과 실제값 저장\n",
        "            preds_list.extend(preds)\n",
        "            true_onehot_list.extend(true_onehot)\n",
        "    # 검증 데이터 손실값 및 ROC AUC 점수 출력 \n",
        "    print(f'에폭 [{epoch+1}/{epochs}] - 검증 데이터 손실값 : {epoch_valid_loss/len(loader_valid):.4f} / 검증 데이터 ROC AUC : {roc_auc_score(true_onehot_list, preds_list):.4f}')"
      ],
      "metadata": {
        "colab": {
          "base_uri": "https://localhost:8080/",
          "height": 928,
          "referenced_widgets": [
            "4fe25805bce1410c83c4c7164e2027ae",
            "32fc417452ce4949a211a3e6e0cb9af8",
            "23389a745ac143ab85b92d717b70ec1e",
            "df8304a4eb3e4ed3b689113e58b1c59a",
            "d72379e9801f4c399e9bfed53e602b77",
            "eb37d8cbc71e493cac0f1a18403db810",
            "9dd34083b8ea4e39a6a2727273f805fd",
            "dd56fbb81fec4a86a8c6131ae3e939fc",
            "86613c1a6ba64ad2b93928ae9dcccb16",
            "c3f8f47b99cf47af905f22629e050c96",
            "d1d4141407eb4265bb09f576b6d012d4"
          ]
        },
        "id": "SjhEMMzeOg5m",
        "outputId": "2aa647a1-67ee-408e-b37d-c02c52c39fcc"
      },
      "execution_count": null,
      "outputs": [
        {
          "output_type": "display_data",
          "data": {
            "text/plain": [
              "  0%|          | 0/410 [00:00<?, ?it/s]"
            ],
            "application/vnd.jupyter.widget-view+json": {
              "version_major": 2,
              "version_minor": 0,
              "model_id": "4fe25805bce1410c83c4c7164e2027ae"
            }
          },
          "metadata": {}
        },
        {
          "output_type": "error",
          "ename": "TypeError",
          "evalue": "ignored",
          "traceback": [
            "\u001b[0;31m---------------------------------------------------------------------------\u001b[0m",
            "\u001b[0;31mTypeError\u001b[0m                                 Traceback (most recent call last)",
            "\u001b[0;32m<ipython-input-35-32ed80d2e920>\u001b[0m in \u001b[0;36m<cell line: 7>\u001b[0;34m()\u001b[0m\n\u001b[1;32m     11\u001b[0m \u001b[0;34m\u001b[0m\u001b[0m\n\u001b[1;32m     12\u001b[0m     \u001b[0;31m# '반복 횟수'만큼 반복\u001b[0m\u001b[0;34m\u001b[0m\u001b[0;34m\u001b[0m\u001b[0m\n\u001b[0;32m---> 13\u001b[0;31m     \u001b[0;32mfor\u001b[0m \u001b[0mimages\u001b[0m\u001b[0;34m,\u001b[0m \u001b[0mlabels\u001b[0m \u001b[0;32min\u001b[0m \u001b[0mtqdm\u001b[0m\u001b[0;34m(\u001b[0m\u001b[0mloader_train\u001b[0m\u001b[0;34m)\u001b[0m\u001b[0;34m:\u001b[0m\u001b[0;34m\u001b[0m\u001b[0;34m\u001b[0m\u001b[0m\n\u001b[0m\u001b[1;32m     14\u001b[0m         \u001b[0;31m# 이미지, 레이블(타깃값) 데이터 미니배치를 장비에 할당\u001b[0m\u001b[0;34m\u001b[0m\u001b[0;34m\u001b[0m\u001b[0m\n\u001b[1;32m     15\u001b[0m         \u001b[0mimages\u001b[0m \u001b[0;34m=\u001b[0m \u001b[0mimages\u001b[0m\u001b[0;34m.\u001b[0m\u001b[0mto\u001b[0m\u001b[0;34m(\u001b[0m\u001b[0mdevice\u001b[0m\u001b[0;34m)\u001b[0m\u001b[0;34m\u001b[0m\u001b[0;34m\u001b[0m\u001b[0m\n",
            "\u001b[0;32m/usr/local/lib/python3.9/dist-packages/tqdm/notebook.py\u001b[0m in \u001b[0;36m__iter__\u001b[0;34m(self)\u001b[0m\n\u001b[1;32m    252\u001b[0m         \u001b[0;32mtry\u001b[0m\u001b[0;34m:\u001b[0m\u001b[0;34m\u001b[0m\u001b[0;34m\u001b[0m\u001b[0m\n\u001b[1;32m    253\u001b[0m             \u001b[0mit\u001b[0m \u001b[0;34m=\u001b[0m \u001b[0msuper\u001b[0m\u001b[0;34m(\u001b[0m\u001b[0mtqdm_notebook\u001b[0m\u001b[0;34m,\u001b[0m \u001b[0mself\u001b[0m\u001b[0;34m)\u001b[0m\u001b[0;34m.\u001b[0m\u001b[0m__iter__\u001b[0m\u001b[0;34m(\u001b[0m\u001b[0;34m)\u001b[0m\u001b[0;34m\u001b[0m\u001b[0;34m\u001b[0m\u001b[0m\n\u001b[0;32m--> 254\u001b[0;31m             \u001b[0;32mfor\u001b[0m \u001b[0mobj\u001b[0m \u001b[0;32min\u001b[0m \u001b[0mit\u001b[0m\u001b[0;34m:\u001b[0m\u001b[0;34m\u001b[0m\u001b[0;34m\u001b[0m\u001b[0m\n\u001b[0m\u001b[1;32m    255\u001b[0m                 \u001b[0;31m# return super(tqdm...) will not catch exception\u001b[0m\u001b[0;34m\u001b[0m\u001b[0;34m\u001b[0m\u001b[0m\n\u001b[1;32m    256\u001b[0m                 \u001b[0;32myield\u001b[0m \u001b[0mobj\u001b[0m\u001b[0;34m\u001b[0m\u001b[0;34m\u001b[0m\u001b[0m\n",
            "\u001b[0;32m/usr/local/lib/python3.9/dist-packages/tqdm/std.py\u001b[0m in \u001b[0;36m__iter__\u001b[0;34m(self)\u001b[0m\n\u001b[1;32m   1176\u001b[0m \u001b[0;34m\u001b[0m\u001b[0m\n\u001b[1;32m   1177\u001b[0m         \u001b[0;32mtry\u001b[0m\u001b[0;34m:\u001b[0m\u001b[0;34m\u001b[0m\u001b[0;34m\u001b[0m\u001b[0m\n\u001b[0;32m-> 1178\u001b[0;31m             \u001b[0;32mfor\u001b[0m \u001b[0mobj\u001b[0m \u001b[0;32min\u001b[0m \u001b[0miterable\u001b[0m\u001b[0;34m:\u001b[0m\u001b[0;34m\u001b[0m\u001b[0;34m\u001b[0m\u001b[0m\n\u001b[0m\u001b[1;32m   1179\u001b[0m                 \u001b[0;32myield\u001b[0m \u001b[0mobj\u001b[0m\u001b[0;34m\u001b[0m\u001b[0;34m\u001b[0m\u001b[0m\n\u001b[1;32m   1180\u001b[0m                 \u001b[0;31m# Update and possibly print the progressbar.\u001b[0m\u001b[0;34m\u001b[0m\u001b[0;34m\u001b[0m\u001b[0m\n",
            "\u001b[0;32m/usr/local/lib/python3.9/dist-packages/torch/utils/data/dataloader.py\u001b[0m in \u001b[0;36m__next__\u001b[0;34m(self)\u001b[0m\n\u001b[1;32m    626\u001b[0m                 \u001b[0;31m# TODO(https://github.com/pytorch/pytorch/issues/76750)\u001b[0m\u001b[0;34m\u001b[0m\u001b[0;34m\u001b[0m\u001b[0m\n\u001b[1;32m    627\u001b[0m                 \u001b[0mself\u001b[0m\u001b[0;34m.\u001b[0m\u001b[0m_reset\u001b[0m\u001b[0;34m(\u001b[0m\u001b[0;34m)\u001b[0m  \u001b[0;31m# type: ignore[call-arg]\u001b[0m\u001b[0;34m\u001b[0m\u001b[0;34m\u001b[0m\u001b[0m\n\u001b[0;32m--> 628\u001b[0;31m             \u001b[0mdata\u001b[0m \u001b[0;34m=\u001b[0m \u001b[0mself\u001b[0m\u001b[0;34m.\u001b[0m\u001b[0m_next_data\u001b[0m\u001b[0;34m(\u001b[0m\u001b[0;34m)\u001b[0m\u001b[0;34m\u001b[0m\u001b[0;34m\u001b[0m\u001b[0m\n\u001b[0m\u001b[1;32m    629\u001b[0m             \u001b[0mself\u001b[0m\u001b[0;34m.\u001b[0m\u001b[0m_num_yielded\u001b[0m \u001b[0;34m+=\u001b[0m \u001b[0;36m1\u001b[0m\u001b[0;34m\u001b[0m\u001b[0;34m\u001b[0m\u001b[0m\n\u001b[1;32m    630\u001b[0m             \u001b[0;32mif\u001b[0m \u001b[0mself\u001b[0m\u001b[0;34m.\u001b[0m\u001b[0m_dataset_kind\u001b[0m \u001b[0;34m==\u001b[0m \u001b[0m_DatasetKind\u001b[0m\u001b[0;34m.\u001b[0m\u001b[0mIterable\u001b[0m \u001b[0;32mand\u001b[0m\u001b[0;31m \u001b[0m\u001b[0;31m\\\u001b[0m\u001b[0;34m\u001b[0m\u001b[0;34m\u001b[0m\u001b[0m\n",
            "\u001b[0;32m/usr/local/lib/python3.9/dist-packages/torch/utils/data/dataloader.py\u001b[0m in \u001b[0;36m_next_data\u001b[0;34m(self)\u001b[0m\n\u001b[1;32m   1331\u001b[0m             \u001b[0;32melse\u001b[0m\u001b[0;34m:\u001b[0m\u001b[0;34m\u001b[0m\u001b[0;34m\u001b[0m\u001b[0m\n\u001b[1;32m   1332\u001b[0m                 \u001b[0;32mdel\u001b[0m \u001b[0mself\u001b[0m\u001b[0;34m.\u001b[0m\u001b[0m_task_info\u001b[0m\u001b[0;34m[\u001b[0m\u001b[0midx\u001b[0m\u001b[0;34m]\u001b[0m\u001b[0;34m\u001b[0m\u001b[0;34m\u001b[0m\u001b[0m\n\u001b[0;32m-> 1333\u001b[0;31m                 \u001b[0;32mreturn\u001b[0m \u001b[0mself\u001b[0m\u001b[0;34m.\u001b[0m\u001b[0m_process_data\u001b[0m\u001b[0;34m(\u001b[0m\u001b[0mdata\u001b[0m\u001b[0;34m)\u001b[0m\u001b[0;34m\u001b[0m\u001b[0;34m\u001b[0m\u001b[0m\n\u001b[0m\u001b[1;32m   1334\u001b[0m \u001b[0;34m\u001b[0m\u001b[0m\n\u001b[1;32m   1335\u001b[0m     \u001b[0;32mdef\u001b[0m \u001b[0m_try_put_index\u001b[0m\u001b[0;34m(\u001b[0m\u001b[0mself\u001b[0m\u001b[0;34m)\u001b[0m\u001b[0;34m:\u001b[0m\u001b[0;34m\u001b[0m\u001b[0;34m\u001b[0m\u001b[0m\n",
            "\u001b[0;32m/usr/local/lib/python3.9/dist-packages/torch/utils/data/dataloader.py\u001b[0m in \u001b[0;36m_process_data\u001b[0;34m(self, data)\u001b[0m\n\u001b[1;32m   1357\u001b[0m         \u001b[0mself\u001b[0m\u001b[0;34m.\u001b[0m\u001b[0m_try_put_index\u001b[0m\u001b[0;34m(\u001b[0m\u001b[0;34m)\u001b[0m\u001b[0;34m\u001b[0m\u001b[0;34m\u001b[0m\u001b[0m\n\u001b[1;32m   1358\u001b[0m         \u001b[0;32mif\u001b[0m \u001b[0misinstance\u001b[0m\u001b[0;34m(\u001b[0m\u001b[0mdata\u001b[0m\u001b[0;34m,\u001b[0m \u001b[0mExceptionWrapper\u001b[0m\u001b[0;34m)\u001b[0m\u001b[0;34m:\u001b[0m\u001b[0;34m\u001b[0m\u001b[0;34m\u001b[0m\u001b[0m\n\u001b[0;32m-> 1359\u001b[0;31m             \u001b[0mdata\u001b[0m\u001b[0;34m.\u001b[0m\u001b[0mreraise\u001b[0m\u001b[0;34m(\u001b[0m\u001b[0;34m)\u001b[0m\u001b[0;34m\u001b[0m\u001b[0;34m\u001b[0m\u001b[0m\n\u001b[0m\u001b[1;32m   1360\u001b[0m         \u001b[0;32mreturn\u001b[0m \u001b[0mdata\u001b[0m\u001b[0;34m\u001b[0m\u001b[0;34m\u001b[0m\u001b[0m\n\u001b[1;32m   1361\u001b[0m \u001b[0;34m\u001b[0m\u001b[0m\n",
            "\u001b[0;32m/usr/local/lib/python3.9/dist-packages/torch/_utils.py\u001b[0m in \u001b[0;36mreraise\u001b[0;34m(self)\u001b[0m\n\u001b[1;32m    541\u001b[0m             \u001b[0;31m# instantiate since we don't know how to\u001b[0m\u001b[0;34m\u001b[0m\u001b[0;34m\u001b[0m\u001b[0m\n\u001b[1;32m    542\u001b[0m             \u001b[0;32mraise\u001b[0m \u001b[0mRuntimeError\u001b[0m\u001b[0;34m(\u001b[0m\u001b[0mmsg\u001b[0m\u001b[0;34m)\u001b[0m \u001b[0;32mfrom\u001b[0m \u001b[0;32mNone\u001b[0m\u001b[0;34m\u001b[0m\u001b[0;34m\u001b[0m\u001b[0m\n\u001b[0;32m--> 543\u001b[0;31m         \u001b[0;32mraise\u001b[0m \u001b[0mexception\u001b[0m\u001b[0;34m\u001b[0m\u001b[0;34m\u001b[0m\u001b[0m\n\u001b[0m\u001b[1;32m    544\u001b[0m \u001b[0;34m\u001b[0m\u001b[0m\n\u001b[1;32m    545\u001b[0m \u001b[0;34m\u001b[0m\u001b[0m\n",
            "\u001b[0;31mTypeError\u001b[0m: Caught TypeError in DataLoader worker process 0.\nOriginal Traceback (most recent call last):\n  File \"/usr/local/lib/python3.9/dist-packages/torch/utils/data/_utils/worker.py\", line 302, in _worker_loop\n    data = fetcher.fetch(index)\n  File \"/usr/local/lib/python3.9/dist-packages/torch/utils/data/_utils/fetch.py\", line 58, in fetch\n    data = [self.dataset[idx] for idx in possibly_batched_index]\n  File \"/usr/local/lib/python3.9/dist-packages/torch/utils/data/_utils/fetch.py\", line 58, in <listcomp>\n    data = [self.dataset[idx] for idx in possibly_batched_index]\n  File \"<ipython-input-14-33055f6d0896>\", line 28, in __getitem__\n    img_id = self.df.iloc[id:, 0] # 이미지 ID (이미지 파일 이름)\n  File \"/usr/local/lib/python3.9/dist-packages/pandas/core/indexing.py\", line 961, in __getitem__\n    return self._getitem_tuple(key)\n  File \"/usr/local/lib/python3.9/dist-packages/pandas/core/indexing.py\", line 1463, in _getitem_tuple\n    return self._getitem_lowerdim(tup)\n  File \"/usr/local/lib/python3.9/dist-packages/pandas/core/indexing.py\", line 891, in _getitem_lowerdim\n    return getattr(section, self.name)[new_key]\n  File \"/usr/local/lib/python3.9/dist-packages/pandas/core/indexing.py\", line 967, in __getitem__\n    return self._getitem_axis(maybe_callable, axis=axis)\n  File \"/usr/local/lib/python3.9/dist-packages/pandas/core/indexing.py\", line 1500, in _getitem_axis\n    return self._get_slice_axis(key, axis=axis)\n  File \"/usr/local/lib/python3.9/dist-packages/pandas/core/indexing.py\", line 1535, in _get_slice_axis\n    labels._validate_positional_slice(slice_obj)\n  File \"/usr/local/lib/python3.9/dist-packages/pandas/core/indexes/base.py\", line 4019, in _validate_positional_slice\n    self._validate_indexer(\"positional\", key.start, \"iloc\")\n  File \"/usr/local/lib/python3.9/dist-packages/pandas/core/indexes/base.py\", line 6322, in _validate_indexer\n    raise self._invalid_indexer(form, key)\nTypeError: cannot do positional indexing on Int64Index with these indexers [<built-in function id>] of type builtin_function_or_method\n"
          ]
        }
      ]
    },
    {
      "cell_type": "code",
      "source": [
        "!ls drive/MyDrive/'Colab Notebooks'"
      ],
      "metadata": {
        "id": "AnkVxh4zdWlc"
      },
      "execution_count": null,
      "outputs": []
    },
    {
      "cell_type": "code",
      "source": [
        "!pwd"
      ],
      "metadata": {
        "colab": {
          "base_uri": "https://localhost:8080/"
        },
        "id": "eLfFuo5udqD0",
        "outputId": "79761aae-8fe3-4638-d476-49eefc1c6991"
      },
      "execution_count": null,
      "outputs": [
        {
          "output_type": "stream",
          "name": "stdout",
          "text": [
            "/content\n"
          ]
        }
      ]
    },
    {
      "cell_type": "code",
      "source": [
        "# 구글 드라이브 저장\n",
        "torch.save(model.state_dict(), \"/content/drive/MyDrive/Colab Notebooks/plant_model1.pt\")"
      ],
      "metadata": {
        "id": "ZpQk1_Ouc1Cq"
      },
      "execution_count": null,
      "outputs": []
    },
    {
      "cell_type": "markdown",
      "source": [
        "## 예측 및 결과 제출"
      ],
      "metadata": {
        "id": "YEHoPGdBvvOx"
      }
    },
    {
      "cell_type": "code",
      "source": [
        "# 테스트용 데이터셋, 데이터 로더 생성\n",
        "dataset_test = ImageDataset(test, img_dir=img_dir,\n",
        "                            transform=transform_test, is_test=True)\n",
        "loader_test = DataLoader(\n",
        "        dataset_test, batch_size=batch_size, shuffle=False,\n",
        "        worker_init_fn=seed_worker, generator=g, num_workers=2 # 병렬 프로세싱 위한 코드\n",
        ")"
      ],
      "metadata": {
        "id": "Bt-qrexTdFak"
      },
      "execution_count": null,
      "outputs": []
    },
    {
      "cell_type": "code",
      "source": [
        "# 예측\n",
        "model.eval() # 평가 모드\n",
        "\n",
        "preds = np.zeros((len(test), 4)) # 테스트 데이터셋만큼의 길이를 가지는 4열짜리 행렬 (0을 가득찬)\n",
        "# preds -> 예측값 저장용 배열\n",
        "\n",
        "with torch.no_grad(): # 테스트용이므로 기울기 계산 X\n",
        "    for i, images in enumerate(loader_test): # 테스트용 데이터 로더의 각각 인덱스와 값을 받음\n",
        "        images = images.to(device)\n",
        "        outputs = model(images) # 모델을 거친 예측 결과\n",
        "        # 타깃을 예측한 확률\n",
        "        print(outputs.cpu())\n",
        "        print(torch.softmax(outputs.cpu(), dim=1))\n",
        "        print(torch.softmax(outputs.cpu(), dim=1).squeeze())\n",
        "        preds_part = torch.softmax(outputs.cpu(), dim=1).squeeze().numpy()\n",
        "        # outputs -> 신경망의 출력값이 배치 크기만큼 존재\n",
        "        # -> 소프트맥스 함수 -> 확률값 (0~1) -> preds_part\n",
        "        preds[i*batch_size:(i+1)*batch_size] += preds_part\n",
        "        # preds 배열에, 배치 사이즈만큼 계산된 값을, 인덱스에 맞게 집어넣어줌\n",
        "\n",
        "preds"
      ],
      "metadata": {
        "id": "lhXUD48IwWaw"
      },
      "execution_count": null,
      "outputs": []
    },
    {
      "cell_type": "code",
      "source": [
        "# 이미지 ID를 제외한 컬럼들 조회\n",
        "submission[submission.columns[1:]]\n",
        "# 예측값을 해당 id에 맞게 집어넣어주는 코드\n",
        "submission[submission.columns[1:]] = preds"
      ],
      "metadata": {
        "id": "RxHc0q9mypoE",
        "colab": {
          "base_uri": "https://localhost:8080/",
          "height": 229
        },
        "outputId": "342ab254-0858-401c-b9b1-b0f99cb4f0ce"
      },
      "execution_count": null,
      "outputs": [
        {
          "output_type": "error",
          "ename": "NameError",
          "evalue": "ignored",
          "traceback": [
            "\u001b[0;31m---------------------------------------------------------------------------\u001b[0m",
            "\u001b[0;31mNameError\u001b[0m                                 Traceback (most recent call last)",
            "\u001b[0;32m<ipython-input-1-ab0a8dbf500e>\u001b[0m in \u001b[0;36m<cell line: 2>\u001b[0;34m()\u001b[0m\n\u001b[1;32m      1\u001b[0m \u001b[0;31m# 이미지 ID를 제외한 컬럼들 조회\u001b[0m\u001b[0;34m\u001b[0m\u001b[0;34m\u001b[0m\u001b[0m\n\u001b[0;32m----> 2\u001b[0;31m \u001b[0msubmission\u001b[0m\u001b[0;34m[\u001b[0m\u001b[0msubmission\u001b[0m\u001b[0;34m.\u001b[0m\u001b[0mcolumns\u001b[0m\u001b[0;34m[\u001b[0m\u001b[0;36m1\u001b[0m\u001b[0;34m:\u001b[0m\u001b[0;34m]\u001b[0m\u001b[0;34m]\u001b[0m\u001b[0;34m\u001b[0m\u001b[0;34m\u001b[0m\u001b[0m\n\u001b[0m\u001b[1;32m      3\u001b[0m \u001b[0;31m# 예측값을 해당 id에 맞게 집어넣어주는 코드\u001b[0m\u001b[0;34m\u001b[0m\u001b[0;34m\u001b[0m\u001b[0m\n\u001b[1;32m      4\u001b[0m \u001b[0msubmission\u001b[0m\u001b[0;34m[\u001b[0m\u001b[0msubmission\u001b[0m\u001b[0;34m.\u001b[0m\u001b[0mcolumns\u001b[0m\u001b[0;34m[\u001b[0m\u001b[0;36m1\u001b[0m\u001b[0;34m:\u001b[0m\u001b[0;34m]\u001b[0m\u001b[0;34m]\u001b[0m \u001b[0;34m=\u001b[0m \u001b[0mpreds\u001b[0m\u001b[0;34m\u001b[0m\u001b[0;34m\u001b[0m\u001b[0m\n",
            "\u001b[0;31mNameError\u001b[0m: name 'submission' is not defined"
          ]
        }
      ]
    },
    {
      "cell_type": "code",
      "source": [
        "submission.head()"
      ],
      "metadata": {
        "colab": {
          "base_uri": "https://localhost:8080/",
          "height": 206
        },
        "id": "AbjpZxNBy41-",
        "outputId": "0e7062a1-7dfe-4e66-b940-3535c1429c06"
      },
      "execution_count": null,
      "outputs": [
        {
          "output_type": "execute_result",
          "data": {
            "text/plain": [
              "  image_id       healthy  multiple_diseases      rust      scab\n",
              "0   Test_0  5.144157e-05           0.004463  0.994855  0.000631\n",
              "1   Test_1  1.314369e-06           0.000716  0.996610  0.002673\n",
              "2   Test_2  1.038206e-03           0.005412  0.000661  0.992889\n",
              "3   Test_3  9.998837e-01           0.000011  0.000027  0.000078\n",
              "4   Test_4  8.715833e-07           0.000330  0.998819  0.000850"
            ],
            "text/html": [
              "\n",
              "  <div id=\"df-d9633eb1-409e-40bd-b0ed-f144797dd76a\">\n",
              "    <div class=\"colab-df-container\">\n",
              "      <div>\n",
              "<style scoped>\n",
              "    .dataframe tbody tr th:only-of-type {\n",
              "        vertical-align: middle;\n",
              "    }\n",
              "\n",
              "    .dataframe tbody tr th {\n",
              "        vertical-align: top;\n",
              "    }\n",
              "\n",
              "    .dataframe thead th {\n",
              "        text-align: right;\n",
              "    }\n",
              "</style>\n",
              "<table border=\"1\" class=\"dataframe\">\n",
              "  <thead>\n",
              "    <tr style=\"text-align: right;\">\n",
              "      <th></th>\n",
              "      <th>image_id</th>\n",
              "      <th>healthy</th>\n",
              "      <th>multiple_diseases</th>\n",
              "      <th>rust</th>\n",
              "      <th>scab</th>\n",
              "    </tr>\n",
              "  </thead>\n",
              "  <tbody>\n",
              "    <tr>\n",
              "      <th>0</th>\n",
              "      <td>Test_0</td>\n",
              "      <td>5.144157e-05</td>\n",
              "      <td>0.004463</td>\n",
              "      <td>0.994855</td>\n",
              "      <td>0.000631</td>\n",
              "    </tr>\n",
              "    <tr>\n",
              "      <th>1</th>\n",
              "      <td>Test_1</td>\n",
              "      <td>1.314369e-06</td>\n",
              "      <td>0.000716</td>\n",
              "      <td>0.996610</td>\n",
              "      <td>0.002673</td>\n",
              "    </tr>\n",
              "    <tr>\n",
              "      <th>2</th>\n",
              "      <td>Test_2</td>\n",
              "      <td>1.038206e-03</td>\n",
              "      <td>0.005412</td>\n",
              "      <td>0.000661</td>\n",
              "      <td>0.992889</td>\n",
              "    </tr>\n",
              "    <tr>\n",
              "      <th>3</th>\n",
              "      <td>Test_3</td>\n",
              "      <td>9.998837e-01</td>\n",
              "      <td>0.000011</td>\n",
              "      <td>0.000027</td>\n",
              "      <td>0.000078</td>\n",
              "    </tr>\n",
              "    <tr>\n",
              "      <th>4</th>\n",
              "      <td>Test_4</td>\n",
              "      <td>8.715833e-07</td>\n",
              "      <td>0.000330</td>\n",
              "      <td>0.998819</td>\n",
              "      <td>0.000850</td>\n",
              "    </tr>\n",
              "  </tbody>\n",
              "</table>\n",
              "</div>\n",
              "      <button class=\"colab-df-convert\" onclick=\"convertToInteractive('df-d9633eb1-409e-40bd-b0ed-f144797dd76a')\"\n",
              "              title=\"Convert this dataframe to an interactive table.\"\n",
              "              style=\"display:none;\">\n",
              "        \n",
              "  <svg xmlns=\"http://www.w3.org/2000/svg\" height=\"24px\"viewBox=\"0 0 24 24\"\n",
              "       width=\"24px\">\n",
              "    <path d=\"M0 0h24v24H0V0z\" fill=\"none\"/>\n",
              "    <path d=\"M18.56 5.44l.94 2.06.94-2.06 2.06-.94-2.06-.94-.94-2.06-.94 2.06-2.06.94zm-11 1L8.5 8.5l.94-2.06 2.06-.94-2.06-.94L8.5 2.5l-.94 2.06-2.06.94zm10 10l.94 2.06.94-2.06 2.06-.94-2.06-.94-.94-2.06-.94 2.06-2.06.94z\"/><path d=\"M17.41 7.96l-1.37-1.37c-.4-.4-.92-.59-1.43-.59-.52 0-1.04.2-1.43.59L10.3 9.45l-7.72 7.72c-.78.78-.78 2.05 0 2.83L4 21.41c.39.39.9.59 1.41.59.51 0 1.02-.2 1.41-.59l7.78-7.78 2.81-2.81c.8-.78.8-2.07 0-2.86zM5.41 20L4 18.59l7.72-7.72 1.47 1.35L5.41 20z\"/>\n",
              "  </svg>\n",
              "      </button>\n",
              "      \n",
              "  <style>\n",
              "    .colab-df-container {\n",
              "      display:flex;\n",
              "      flex-wrap:wrap;\n",
              "      gap: 12px;\n",
              "    }\n",
              "\n",
              "    .colab-df-convert {\n",
              "      background-color: #E8F0FE;\n",
              "      border: none;\n",
              "      border-radius: 50%;\n",
              "      cursor: pointer;\n",
              "      display: none;\n",
              "      fill: #1967D2;\n",
              "      height: 32px;\n",
              "      padding: 0 0 0 0;\n",
              "      width: 32px;\n",
              "    }\n",
              "\n",
              "    .colab-df-convert:hover {\n",
              "      background-color: #E2EBFA;\n",
              "      box-shadow: 0px 1px 2px rgba(60, 64, 67, 0.3), 0px 1px 3px 1px rgba(60, 64, 67, 0.15);\n",
              "      fill: #174EA6;\n",
              "    }\n",
              "\n",
              "    [theme=dark] .colab-df-convert {\n",
              "      background-color: #3B4455;\n",
              "      fill: #D2E3FC;\n",
              "    }\n",
              "\n",
              "    [theme=dark] .colab-df-convert:hover {\n",
              "      background-color: #434B5C;\n",
              "      box-shadow: 0px 1px 3px 1px rgba(0, 0, 0, 0.15);\n",
              "      filter: drop-shadow(0px 1px 2px rgba(0, 0, 0, 0.3));\n",
              "      fill: #FFFFFF;\n",
              "    }\n",
              "  </style>\n",
              "\n",
              "      <script>\n",
              "        const buttonEl =\n",
              "          document.querySelector('#df-d9633eb1-409e-40bd-b0ed-f144797dd76a button.colab-df-convert');\n",
              "        buttonEl.style.display =\n",
              "          google.colab.kernel.accessAllowed ? 'block' : 'none';\n",
              "\n",
              "        async function convertToInteractive(key) {\n",
              "          const element = document.querySelector('#df-d9633eb1-409e-40bd-b0ed-f144797dd76a');\n",
              "          const dataTable =\n",
              "            await google.colab.kernel.invokeFunction('convertToInteractive',\n",
              "                                                     [key], {});\n",
              "          if (!dataTable) return;\n",
              "\n",
              "          const docLinkHtml = 'Like what you see? Visit the ' +\n",
              "            '<a target=\"_blank\" href=https://colab.research.google.com/notebooks/data_table.ipynb>data table notebook</a>'\n",
              "            + ' to learn more about interactive tables.';\n",
              "          element.innerHTML = '';\n",
              "          dataTable['output_type'] = 'display_data';\n",
              "          await google.colab.output.renderOutput(dataTable, element);\n",
              "          const docLink = document.createElement('div');\n",
              "          docLink.innerHTML = docLinkHtml;\n",
              "          element.appendChild(docLink);\n",
              "        }\n",
              "      </script>\n",
              "    </div>\n",
              "  </div>\n",
              "  "
            ]
          },
          "metadata": {},
          "execution_count": 47
        }
      ]
    },
    {
      "cell_type": "code",
      "source": [
        "submission.to_csv('submission.csv', index=False)"
      ],
      "metadata": {
        "id": "SPazslVXzCuL"
      },
      "execution_count": null,
      "outputs": []
    },
    {
      "cell_type": "code",
      "source": [
        "files.download('submission.csv')"
      ],
      "metadata": {
        "id": "N_D7wQEazIvn"
      },
      "execution_count": null,
      "outputs": []
    }
  ]
}