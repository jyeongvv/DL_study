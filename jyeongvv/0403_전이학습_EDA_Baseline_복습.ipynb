{
  "nbformat": 4,
  "nbformat_minor": 0,
  "metadata": {
    "colab": {
      "provenance": [],
      "authorship_tag": "ABX9TyOPmIyHvsRq3Yb7fJe+tALD",
      "include_colab_link": true
    },
    "kernelspec": {
      "name": "python3",
      "display_name": "Python 3"
    },
    "language_info": {
      "name": "python"
    }
  },
  "cells": [
    {
      "cell_type": "markdown",
      "metadata": {
        "id": "view-in-github",
        "colab_type": "text"
      },
      "source": [
        "<a href=\"https://colab.research.google.com/github/jyeongvv/DL_study/blob/main/jyeongvv/0403_%EC%A0%84%EC%9D%B4%ED%95%99%EC%8A%B5_EDA_Baseline_%EB%B3%B5%EC%8A%B5.ipynb\" target=\"_parent\"><img src=\"https://colab.research.google.com/assets/colab-badge.svg\" alt=\"Open In Colab\"/></a>"
      ]
    },
    {
      "cell_type": "markdown",
      "source": [
        "# 전이학습\n",
        "* 이미지, 음성, 자연어 처리 등에서 매우 유용한 기술 중 하나\n",
        "* 미리 학습된 모델의 지식을 가져와 새로운 문제에 적용하는 기술 -> 즉, 이미 학습된 모델의 일부 또는 전체 파라미터를 재사용하여 새로운 문제를 해결\n",
        "  > 사전학습된 모델의 일부를 재사용하는 경우\n",
        "\n",
        "  > 사전학습된 모델의 모든 레이어를 재사용하는 경우\n",
        "  \n",
        "  > 여러 개의 사전학습된 모델을 조합하여 새로운 모델을 생성하는 경우"
      ],
      "metadata": {
        "id": "Pv8tPSEgpTm7"
      }
    },
    {
      "cell_type": "markdown",
      "source": [
        "# EDA"
      ],
      "metadata": {
        "id": "yfL5IwYwm9dd"
      }
    },
    {
      "cell_type": "markdown",
      "source": [
        "## 데이터 시각화\n",
        "---"
      ],
      "metadata": {
        "id": "xBSVc5Nnm_bd"
      }
    },
    {
      "cell_type": "markdown",
      "source": [
        "### 타깃값 분포"
      ],
      "metadata": {
        "id": "EJcJZ2LmoFz6"
      }
    },
    {
      "cell_type": "markdown",
      "source": [
        "**데이터를 타깃값별로 추출**\n",
        "\n",
        "* `train.loc[train['healthy'] == 1]` -> 예시\n",
        "\n",
        "```\n",
        "# [col for col in train.columns[1:]]\n",
        "healthy, multiple_diseases, rust, scab = [\n",
        "    train.loc[train[col] == 1] for col in train.columns[1:]\n",
        "]\n",
        "```\n",
        "\n"
      ],
      "metadata": {
        "id": "BSI6-usAoKqt"
      }
    },
    {
      "cell_type": "markdown",
      "source": [
        "### 이미지 출력"
      ],
      "metadata": {
        "id": "MKjJGp0fourm"
      }
    },
    {
      "cell_type": "markdown",
      "source": [
        "* `assert len(img_ids) <= rows * cols` -> 이미지가 행/열 개수보다 많으면 오류 발생\n",
        "  > assert는 True면은 문제가 없고, False일 때 에러를 발생시킴\n",
        "* `image = cv2.cvtColor(image, cv2.COLOR_BGR2RGB)` 를 해주지 않으면 **BGR -> RGB**로 나옴\n",
        "* [-num_of_lmgs:] -> 뒤에서 num_of_lmgs만큼의 갯수만큼 이미지 id를 추출"
      ],
      "metadata": {
        "id": "L_PjvhluoxN6"
      }
    },
    {
      "cell_type": "markdown",
      "source": [
        "---"
      ],
      "metadata": {
        "id": "LAZRehf7rlhC"
      }
    },
    {
      "cell_type": "markdown",
      "source": [
        "# Baseline"
      ],
      "metadata": {
        "id": "q_hZCmF1rmWZ"
      }
    },
    {
      "cell_type": "markdown",
      "source": [
        "## 훈련데이터, 검증데이터 분리\n",
        "* test_size=0.1, -> 10%를 검증셋으로 사용\n"
      ],
      "metadata": {
        "id": "D1v2baWhroKk"
      }
    },
    {
      "cell_type": "markdown",
      "source": [
        "## 데이터셋 클래스\n",
        "*  데이터셋을 훈련용 또는 검증용 : **False** -> **라벨을 같이** 반환\n",
        "* 테스트용으로 만들 거면 : **True** -> **이미지만** 반환\n",
        "* `is_test = False,`"
      ],
      "metadata": {
        "id": "ytMRn2phr_cW"
      }
    },
    {
      "cell_type": "markdown",
      "source": [
        "## 이미지 변환기\n",
        "* 밝기 대비 조절 (+- 랜덤으로 밝기 비율 조정)\n",
        "  * `A.RandomBrightnessContrast(brightness_limit=0.2, contrast_limit=0.2, p=0.3)`\n",
        "* 상하 대칭 변환\n",
        "  * `A.VerticalFlip(p=0.2)`\n",
        "* 좌우 대칭 변환 \n",
        "  * `A.HorizontalFlip(p=0.5)`\n",
        "* 이동, 스케일링, 회전 변환\n",
        "  * `A.ShiftScaleRotate(shift_limit=0.1, scale_limit=0.2, rotate_limit=30, p=0.3)`\n",
        "* 양각화 (튀어나오게), 날카로움, 블러 효과\n",
        "  * `A.OneOf([A.Emboss(p=1), A.Sharpen(p=1), A.Blur(p=1),], p=0.3)`\n",
        "* 어파인 변환 -> 이동, 확대/축소, 회전 => 이미지 모양을 전체적으로 바꾸는 변환기\n",
        "  * `A.PiecewiseAffine(p=0.3)`\n",
        "* 정규화 변환\n",
        "  * `A.Normalize()`\n",
        "* 텐서로 변환\n",
        "  * `ToTensorV2`"
      ],
      "metadata": {
        "id": "L6A8h8hVsUt_"
      }
    },
    {
      "cell_type": "markdown",
      "source": [
        "### 데이터셋 생성\n",
        "* 멀티 프로세싱\n"
      ],
      "metadata": {
        "id": "fzaIVlxstygY"
      }
    },
    {
      "cell_type": "markdown",
      "source": [
        "### 데이터로더 생성\n",
        "* loader_train / loader_valid"
      ],
      "metadata": {
        "id": "gCfW4wrlsowA"
      }
    },
    {
      "cell_type": "markdown",
      "source": [
        "## 모델 생성"
      ],
      "metadata": {
        "id": "RMkt78McuJHL"
      }
    },
    {
      "cell_type": "markdown",
      "source": [
        "* 전에는 계층(레이어)별로 구성\n",
        "* 이거는 사전 훈련된 모델을 전이 학습시키는 것\n",
        "\n",
        "* **사전 훈련 모델** : 이미 한 분야에서 훈련을 마친 모델\n",
        "* **전이 학습** : 사전 훈련 모델을 유사한 다른 영역에 재훈련 시키는 기법"
      ],
      "metadata": {
        "id": "vGleqmSIuT9A"
      }
    },
    {
      "cell_type": "markdown",
      "source": [
        "* **파이토치에서 사전 훈련 모델 사용하는 법**\n",
        "1. torchvision.models 모듈 이용\n",
        "* 제공하는 모델 ↓\n",
        "* 기본적으로 설치되어 있기에 사용이 간단함\n",
        "\n",
        "2. pretrainedmodels 모듈 이용\n",
        "\n",
        "3. 직접 구현한 모듈 이용"
      ],
      "metadata": {
        "id": "NdkYA5tCunGz"
      }
    },
    {
      "cell_type": "markdown",
      "source": [
        "### EfficientNet 모델 생성"
      ],
      "metadata": {
        "id": "eoqAFodwvDEe"
      }
    },
    {
      "cell_type": "markdown",
      "source": [
        "* 사전 훈련된 efficientnet-b7 모델 불러오기\n",
        "  * model = EfficientNet.from_pretrained('efficientnet-b7', num_classes=4)\n",
        "* num_classes : 출력값의 개수"
      ],
      "metadata": {
        "id": "tplw7nRYvI5Q"
      }
    },
    {
      "cell_type": "markdown",
      "source": [
        "## 모델 훈련"
      ],
      "metadata": {
        "id": "pio83a-0wG1P"
      }
    },
    {
      "cell_type": "markdown",
      "source": [
        "* 옵티마이저 : `Adam -> AdamW` : Adam + 가중치 감쇠 추가로 적용\n",
        "* 가중치 감쇠 `weight decay` : 가중치를 작게 조절하는 규제 기법으로, 과적합(과대적합)을 억제해줌\n",
        "* 옵티마이저 내 기울기 초기화 -> `optimizer.zero_grad()`\n",
        "* 순전파 : 이미지 데이터를 신경망 모델의 입력값으로 사용해 출력값 계산\n",
        "  * `outputs = model(images)`\n",
        "* 손실 함수를 활용해 outputs와 labels의 손실값 계산\n",
        "  * `loss = criterion(outputs, labels)`\n",
        "* 훈련 데이터 손실값 출력\n",
        "  * `print(f'에폭 [{epoch+1}/{epochs}] - 훈련 데이터 손실값 : {epoch_train_loss/len(loader_train):.4f}')`"
      ],
      "metadata": {
        "id": "_82wYIjYwI29"
      }
    },
    {
      "cell_type": "markdown",
      "source": [
        "## 예측 및 결과"
      ],
      "metadata": {
        "id": "Wd4U2HkBw80r"
      }
    },
    {
      "cell_type": "markdown",
      "source": [
        "* 예측값을 해당 id에 맞게 집어넣어주는 코드\n",
        "  * `submission[submission.columns[1:]] = preds`"
      ],
      "metadata": {
        "id": "qw_kiXb4xAaM"
      }
    }
  ]
}